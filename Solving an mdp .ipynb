{
 "cells": [
  {
   "cell_type": "code",
   "execution_count": 1,
   "metadata": {
    "ExecuteTime": {
     "end_time": "2019-06-18T16:15:01.223895Z",
     "start_time": "2019-06-18T16:15:01.219136Z"
    }
   },
   "outputs": [],
   "source": [
    "from mdp import *\n",
    "from utils import *"
   ]
  },
  {
   "cell_type": "code",
   "execution_count": 2,
   "metadata": {
    "ExecuteTime": {
     "end_time": "2019-06-18T16:15:01.931750Z",
     "start_time": "2019-06-18T16:15:01.926237Z"
    }
   },
   "outputs": [],
   "source": [
    "# reading data\n",
    "transition_file = 'data/transitions.csv'\n",
    "rewards_file = 'data/rewards.csv'\n",
    "transitions, rewards = read_data(transition_file, rewards_file)\n",
    "\n",
    "# initialize the mdp\n",
    "mdp = MDP(transitions, rewards)"
   ]
  },
  {
   "cell_type": "code",
   "execution_count": 3,
   "metadata": {
    "ExecuteTime": {
     "end_time": "2019-06-18T16:15:02.426123Z",
     "start_time": "2019-06-18T16:15:02.423640Z"
    }
   },
   "outputs": [],
   "source": [
    "# initialize the value iteration solver\n",
    "solver = MDPSolver(method='vi')"
   ]
  },
  {
   "cell_type": "code",
   "execution_count": 4,
   "metadata": {
    "ExecuteTime": {
     "end_time": "2019-06-18T16:15:03.379555Z",
     "start_time": "2019-06-18T16:15:03.316508Z"
    }
   },
   "outputs": [],
   "source": [
    "# solve the mdp\n",
    "V_star, Pi_star, it = solver.solve(mdp)"
   ]
  },
  {
   "cell_type": "code",
   "execution_count": 5,
   "metadata": {
    "ExecuteTime": {
     "end_time": "2019-06-18T16:15:03.854832Z",
     "start_time": "2019-06-18T16:15:03.844754Z"
    }
   },
   "outputs": [
    {
     "data": {
      "text/plain": [
       "{'(3 0)': 2.6220427219216704,\n",
       " '(3 1)': -10.0,\n",
       " '(1 0)': 4.085096777436975,\n",
       " '(2 1)': 5.633171754225077,\n",
       " '(1 2)': 7.3490076784692935,\n",
       " '(2 0)': 4.619526217984333,\n",
       " '(3 2)': 10.0,\n",
       " '(2 2)': 8.425258744923362,\n",
       " '(0 1)': 5.495341327441271,\n",
       " '(0 0)': 4.708026885414333,\n",
       " '(0 2)': 6.314138734030337}"
      ]
     },
     "execution_count": 5,
     "metadata": {},
     "output_type": "execute_result"
    }
   ],
   "source": [
    "V_star"
   ]
  },
  {
   "cell_type": "code",
   "execution_count": 6,
   "metadata": {
    "ExecuteTime": {
     "end_time": "2019-06-18T16:15:04.412950Z",
     "start_time": "2019-06-18T16:15:04.406495Z"
    }
   },
   "outputs": [
    {
     "data": {
      "text/plain": [
       "{'(3 0)': 'L',\n",
       " '(3 1)': 'EXIT',\n",
       " '(1 0)': 'L',\n",
       " '(2 1)': 'U',\n",
       " '(1 2)': 'R',\n",
       " '(2 0)': 'U',\n",
       " '(3 2)': 'EXIT',\n",
       " '(2 2)': 'R',\n",
       " '(0 1)': 'U',\n",
       " '(0 0)': 'U',\n",
       " '(0 2)': 'R'}"
      ]
     },
     "execution_count": 6,
     "metadata": {},
     "output_type": "execute_result"
    }
   ],
   "source": [
    "Pi_star"
   ]
  },
  {
   "cell_type": "code",
   "execution_count": 7,
   "metadata": {
    "ExecuteTime": {
     "end_time": "2019-06-18T16:15:08.606566Z",
     "start_time": "2019-06-18T16:15:08.602236Z"
    }
   },
   "outputs": [
    {
     "data": {
      "text/plain": [
       "1000"
      ]
     },
     "execution_count": 7,
     "metadata": {},
     "output_type": "execute_result"
    }
   ],
   "source": [
    "it"
   ]
  },
  {
   "cell_type": "code",
   "execution_count": 8,
   "metadata": {
    "ExecuteTime": {
     "end_time": "2019-06-18T16:15:32.216747Z",
     "start_time": "2019-06-18T16:15:32.213909Z"
    }
   },
   "outputs": [],
   "source": [
    "# initialize the policy iteration solver\n",
    "solver = MDPSolver(method='pi')"
   ]
  },
  {
   "cell_type": "code",
   "execution_count": 9,
   "metadata": {
    "ExecuteTime": {
     "end_time": "2019-06-18T16:15:41.974530Z",
     "start_time": "2019-06-18T16:15:41.970310Z"
    }
   },
   "outputs": [],
   "source": [
    "# solve the mdp\n",
    "Pi_init, V_star, Pi_star, it = solver.solve(mdp)"
   ]
  },
  {
   "cell_type": "code",
   "execution_count": 10,
   "metadata": {
    "ExecuteTime": {
     "end_time": "2019-06-18T16:15:46.238163Z",
     "start_time": "2019-06-18T16:15:46.234383Z"
    }
   },
   "outputs": [
    {
     "data": {
      "text/plain": [
       "{'(3 0)': 'L',\n",
       " '(3 1)': 'EXIT',\n",
       " '(1 0)': 'L',\n",
       " '(2 1)': 'L',\n",
       " '(1 2)': 'U',\n",
       " '(2 0)': 'L',\n",
       " '(3 2)': 'EXIT',\n",
       " '(2 2)': 'R',\n",
       " '(0 1)': 'D',\n",
       " '(0 0)': 'U',\n",
       " '(0 2)': 'D'}"
      ]
     },
     "execution_count": 10,
     "metadata": {},
     "output_type": "execute_result"
    }
   ],
   "source": [
    "Pi_init"
   ]
  },
  {
   "cell_type": "code",
   "execution_count": 11,
   "metadata": {
    "ExecuteTime": {
     "end_time": "2019-06-18T16:15:50.450723Z",
     "start_time": "2019-06-18T16:15:50.446239Z"
    }
   },
   "outputs": [
    {
     "data": {
      "text/plain": [
       "{'(3 0)': 2.622036620952163,\n",
       " '(3 1)': -10.0,\n",
       " '(1 0)': 4.085091283372388,\n",
       " '(2 1)': 5.633171754225049,\n",
       " '(1 2)': 7.349007678469248,\n",
       " '(2 0)': 4.619523599398389,\n",
       " '(3 2)': 10.0,\n",
       " '(2 2)': 8.425258744923351,\n",
       " '(0 1)': 5.495341327380871,\n",
       " '(0 0)': 4.708025256160879,\n",
       " '(0 2)': 6.3141387340123565}"
      ]
     },
     "execution_count": 11,
     "metadata": {},
     "output_type": "execute_result"
    }
   ],
   "source": [
    "V_star"
   ]
  },
  {
   "cell_type": "code",
   "execution_count": 12,
   "metadata": {
    "ExecuteTime": {
     "end_time": "2019-06-18T16:15:54.673738Z",
     "start_time": "2019-06-18T16:15:54.669067Z"
    }
   },
   "outputs": [
    {
     "data": {
      "text/plain": [
       "{'(3 0)': 'L',\n",
       " '(3 1)': 'EXIT',\n",
       " '(1 0)': 'L',\n",
       " '(2 1)': 'U',\n",
       " '(1 2)': 'R',\n",
       " '(2 0)': 'U',\n",
       " '(3 2)': 'EXIT',\n",
       " '(2 2)': 'R',\n",
       " '(0 1)': 'U',\n",
       " '(0 0)': 'U',\n",
       " '(0 2)': 'R'}"
      ]
     },
     "execution_count": 12,
     "metadata": {},
     "output_type": "execute_result"
    }
   ],
   "source": [
    "Pi_star"
   ]
  },
  {
   "cell_type": "code",
   "execution_count": 13,
   "metadata": {
    "ExecuteTime": {
     "end_time": "2019-06-18T16:16:11.488520Z",
     "start_time": "2019-06-18T16:16:11.484754Z"
    }
   },
   "outputs": [
    {
     "data": {
      "text/plain": [
       "3"
      ]
     },
     "execution_count": 13,
     "metadata": {},
     "output_type": "execute_result"
    }
   ],
   "source": [
    "it"
   ]
  },
  {
   "cell_type": "code",
   "execution_count": null,
   "metadata": {},
   "outputs": [],
   "source": []
  }
 ],
 "metadata": {
  "kernelspec": {
   "display_name": "Python 3",
   "language": "python",
   "name": "python3"
  },
  "varInspector": {
   "cols": {
    "lenName": 16,
    "lenType": 16,
    "lenVar": 40
   },
   "kernels_config": {
    "python": {
     "delete_cmd_postfix": "",
     "delete_cmd_prefix": "del ",
     "library": "var_list.py",
     "varRefreshCmd": "print(var_dic_list())"
    },
    "r": {
     "delete_cmd_postfix": ") ",
     "delete_cmd_prefix": "rm(",
     "library": "var_list.r",
     "varRefreshCmd": "cat(var_dic_list()) "
    }
   },
   "types_to_exclude": [
    "module",
    "function",
    "builtin_function_or_method",
    "instance",
    "_Feature"
   ],
   "window_display": false
  }
 },
 "nbformat": 4,
 "nbformat_minor": 2
}
