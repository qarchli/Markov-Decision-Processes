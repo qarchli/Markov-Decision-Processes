{
 "cells": [
  {
   "cell_type": "code",
   "execution_count": 1,
   "metadata": {
    "ExecuteTime": {
     "end_time": "2019-06-18T14:35:42.709787Z",
     "start_time": "2019-06-18T14:35:41.918669Z"
    }
   },
   "outputs": [],
   "source": [
    "import pandas as pd\n",
    "import numpy as np\n",
    "import csv\n",
    "import matplotlib.pyplot as plt\n",
    "from mdp import *\n",
    "from utils import *"
   ]
  },
  {
   "cell_type": "code",
   "execution_count": 2,
   "metadata": {
    "ExecuteTime": {
     "end_time": "2019-06-18T14:35:43.176591Z",
     "start_time": "2019-06-18T14:35:43.170950Z"
    }
   },
   "outputs": [],
   "source": [
    "# reading data\n",
    "transition_file = 'data/transitions.csv'\n",
    "rewards_file = 'data/rewards.csv'\n",
    "transitions, rewards = read_data(transition_file, rewards_file)\n",
    "\n",
    "# initialize the mdp\n",
    "mdp = MDP(transitions, rewards)\n",
    "\n",
    "# initialize the solver\n",
    "solver = MDPSolver()"
   ]
  },
  {
   "cell_type": "code",
   "execution_count": 3,
   "metadata": {
    "ExecuteTime": {
     "end_time": "2019-06-18T14:35:43.646682Z",
     "start_time": "2019-06-18T14:35:43.582507Z"
    }
   },
   "outputs": [],
   "source": [
    "# solve the mdp\n",
    "V_star, Pi_star = solver.solve(mdp)"
   ]
  },
  {
   "cell_type": "code",
   "execution_count": 4,
   "metadata": {
    "ExecuteTime": {
     "end_time": "2019-06-18T14:35:44.003130Z",
     "start_time": "2019-06-18T14:35:43.994245Z"
    }
   },
   "outputs": [
    {
     "data": {
      "text/plain": [
       "{'(3 0)': 2.6220427219216704,\n",
       " '(3 1)': -10.0,\n",
       " '(1 0)': 4.085096777436975,\n",
       " '(2 1)': 5.633171754225077,\n",
       " '(1 2)': 7.3490076784692935,\n",
       " '(2 0)': 4.619526217984333,\n",
       " '(3 2)': 10.0,\n",
       " '(2 2)': 8.425258744923362,\n",
       " '(0 1)': 5.495341327441271,\n",
       " '(0 0)': 4.708026885414333,\n",
       " '(0 2)': 6.314138734030337}"
      ]
     },
     "execution_count": 4,
     "metadata": {},
     "output_type": "execute_result"
    }
   ],
   "source": [
    "V_star"
   ]
  },
  {
   "cell_type": "code",
   "execution_count": 5,
   "metadata": {
    "ExecuteTime": {
     "end_time": "2019-06-18T14:35:44.408806Z",
     "start_time": "2019-06-18T14:35:44.404590Z"
    }
   },
   "outputs": [
    {
     "data": {
      "text/plain": [
       "{'(3 0)': 'L',\n",
       " '(3 1)': 'EXIT',\n",
       " '(1 0)': 'L',\n",
       " '(2 1)': 'U',\n",
       " '(1 2)': 'R',\n",
       " '(2 0)': 'U',\n",
       " '(3 2)': 'EXIT',\n",
       " '(2 2)': 'R',\n",
       " '(0 1)': 'U',\n",
       " '(0 0)': 'U',\n",
       " '(0 2)': 'R'}"
      ]
     },
     "execution_count": 5,
     "metadata": {},
     "output_type": "execute_result"
    }
   ],
   "source": [
    "Pi_star"
   ]
  },
  {
   "cell_type": "code",
   "execution_count": null,
   "metadata": {},
   "outputs": [],
   "source": []
  }
 ],
 "metadata": {
  "kernelspec": {
   "display_name": "Python 3",
   "language": "python",
   "name": "python3"
  },
  "varInspector": {
   "cols": {
    "lenName": 16,
    "lenType": 16,
    "lenVar": 40
   },
   "kernels_config": {
    "python": {
     "delete_cmd_postfix": "",
     "delete_cmd_prefix": "del ",
     "library": "var_list.py",
     "varRefreshCmd": "print(var_dic_list())"
    },
    "r": {
     "delete_cmd_postfix": ") ",
     "delete_cmd_prefix": "rm(",
     "library": "var_list.r",
     "varRefreshCmd": "cat(var_dic_list()) "
    }
   },
   "types_to_exclude": [
    "module",
    "function",
    "builtin_function_or_method",
    "instance",
    "_Feature"
   ],
   "window_display": false
  }
 },
 "nbformat": 4,
 "nbformat_minor": 2
}
