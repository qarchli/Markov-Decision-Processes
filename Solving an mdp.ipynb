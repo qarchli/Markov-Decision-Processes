{
 "cells": [
  {
   "cell_type": "code",
   "execution_count": 1,
   "metadata": {
    "ExecuteTime": {
     "end_time": "2019-07-04T14:07:37.526061Z",
     "start_time": "2019-07-04T14:07:37.520142Z"
    }
   },
   "outputs": [],
   "source": [
    "from mdp import *\n",
    "from utils import *"
   ]
  },
  {
   "cell_type": "code",
   "execution_count": 2,
   "metadata": {
    "ExecuteTime": {
     "end_time": "2019-07-04T14:07:37.531914Z",
     "start_time": "2019-07-04T14:07:37.527767Z"
    }
   },
   "outputs": [],
   "source": [
    "# reading data\n",
    "transition_file = 'data/transitions.csv'\n",
    "rewards_file = 'data/rewards.csv'\n",
    "transitions, rewards = read_data(transition_file, rewards_file)\n",
    "\n",
    "# initialize the mdp\n",
    "mdp = MDP(transitions, rewards)"
   ]
  },
  {
   "cell_type": "code",
   "execution_count": 3,
   "metadata": {
    "ExecuteTime": {
     "end_time": "2019-07-04T14:07:37.538238Z",
     "start_time": "2019-07-04T14:07:37.535179Z"
    }
   },
   "outputs": [],
   "source": [
    "# initialize the value iteration solver\n",
    "solver = MDPSolver(method='vi')"
   ]
  },
  {
   "cell_type": "code",
   "execution_count": 4,
   "metadata": {
    "ExecuteTime": {
     "end_time": "2019-07-04T14:07:37.543960Z",
     "start_time": "2019-07-04T14:07:37.540483Z"
    }
   },
   "outputs": [],
   "source": [
    "# solve the mdp\n",
    "V_star, Pi_star, it = solver.solve(mdp)"
   ]
  },
  {
   "cell_type": "code",
   "execution_count": 5,
   "metadata": {
    "ExecuteTime": {
     "end_time": "2019-07-04T14:07:37.555155Z",
     "start_time": "2019-07-04T14:07:37.545734Z"
    }
   },
   "outputs": [
    {
     "data": {
      "text/plain": [
       "{'(3 0)': 2.61,\n",
       " '(3 1)': -10.0,\n",
       " '(1 0)': 4.07,\n",
       " '(2 1)': 5.63,\n",
       " '(1 2)': 7.34,\n",
       " '(2 0)': 4.61,\n",
       " '(3 2)': 10.0,\n",
       " '(2 2)': 8.42,\n",
       " '(0 1)': 5.48,\n",
       " '(0 0)': 4.69,\n",
       " '(0 2)': 6.3}"
      ]
     },
     "execution_count": 5,
     "metadata": {},
     "output_type": "execute_result"
    }
   ],
   "source": [
    "V_star"
   ]
  },
  {
   "cell_type": "code",
   "execution_count": 6,
   "metadata": {
    "ExecuteTime": {
     "end_time": "2019-07-04T14:07:37.560331Z",
     "start_time": "2019-07-04T14:07:37.556532Z"
    }
   },
   "outputs": [
    {
     "data": {
      "text/plain": [
       "{'(3 0)': 'L',\n",
       " '(3 1)': 'EXIT',\n",
       " '(1 0)': 'L',\n",
       " '(2 1)': 'U',\n",
       " '(1 2)': 'R',\n",
       " '(2 0)': 'U',\n",
       " '(3 2)': 'EXIT',\n",
       " '(2 2)': 'R',\n",
       " '(0 1)': 'U',\n",
       " '(0 0)': 'U',\n",
       " '(0 2)': 'R'}"
      ]
     },
     "execution_count": 6,
     "metadata": {},
     "output_type": "execute_result"
    }
   ],
   "source": [
    "Pi_star"
   ]
  },
  {
   "cell_type": "code",
   "execution_count": 7,
   "metadata": {
    "ExecuteTime": {
     "end_time": "2019-07-04T14:07:37.566513Z",
     "start_time": "2019-07-04T14:07:37.562903Z"
    }
   },
   "outputs": [
    {
     "data": {
      "text/plain": [
       "14"
      ]
     },
     "execution_count": 7,
     "metadata": {},
     "output_type": "execute_result"
    }
   ],
   "source": [
    "it"
   ]
  },
  {
   "cell_type": "code",
   "execution_count": 8,
   "metadata": {
    "ExecuteTime": {
     "end_time": "2019-07-04T14:07:37.571424Z",
     "start_time": "2019-07-04T14:07:37.568833Z"
    }
   },
   "outputs": [],
   "source": [
    "# initialize the policy iteration solver\n",
    "solver = MDPSolver(method='pi')"
   ]
  },
  {
   "cell_type": "code",
   "execution_count": 9,
   "metadata": {
    "ExecuteTime": {
     "end_time": "2019-07-04T14:07:37.578201Z",
     "start_time": "2019-07-04T14:07:37.573450Z"
    }
   },
   "outputs": [],
   "source": [
    "# solve the mdp\n",
    "Pi_init, V_star, Pi_star, it = solver.solve(mdp)"
   ]
  },
  {
   "cell_type": "code",
   "execution_count": 10,
   "metadata": {
    "ExecuteTime": {
     "end_time": "2019-07-04T14:07:37.587748Z",
     "start_time": "2019-07-04T14:07:37.580874Z"
    }
   },
   "outputs": [
    {
     "data": {
      "text/plain": [
       "{'(3 0)': 'R',\n",
       " '(3 1)': 'EXIT',\n",
       " '(1 0)': 'D',\n",
       " '(2 1)': 'U',\n",
       " '(1 2)': 'R',\n",
       " '(2 0)': 'R',\n",
       " '(3 2)': 'EXIT',\n",
       " '(2 2)': 'L',\n",
       " '(0 1)': 'L',\n",
       " '(0 0)': 'R',\n",
       " '(0 2)': 'R'}"
      ]
     },
     "execution_count": 10,
     "metadata": {},
     "output_type": "execute_result"
    }
   ],
   "source": [
    "Pi_init"
   ]
  },
  {
   "cell_type": "code",
   "execution_count": 11,
   "metadata": {
    "ExecuteTime": {
     "end_time": "2019-07-04T14:07:37.593556Z",
     "start_time": "2019-07-04T14:07:37.589196Z"
    }
   },
   "outputs": [
    {
     "data": {
      "text/plain": [
       "{'(3 0)': 2.61,\n",
       " '(3 1)': -10.0,\n",
       " '(1 0)': 4.07,\n",
       " '(2 1)': 5.63,\n",
       " '(1 2)': 7.34,\n",
       " '(2 0)': 4.61,\n",
       " '(3 2)': 10.0,\n",
       " '(2 2)': 8.42,\n",
       " '(0 1)': 5.48,\n",
       " '(0 0)': 4.69,\n",
       " '(0 2)': 6.3}"
      ]
     },
     "execution_count": 11,
     "metadata": {},
     "output_type": "execute_result"
    }
   ],
   "source": [
    "V_star"
   ]
  },
  {
   "cell_type": "code",
   "execution_count": 12,
   "metadata": {
    "ExecuteTime": {
     "end_time": "2019-07-04T14:07:37.600524Z",
     "start_time": "2019-07-04T14:07:37.595582Z"
    }
   },
   "outputs": [
    {
     "data": {
      "text/plain": [
       "{'(3 0)': 'L',\n",
       " '(3 1)': 'EXIT',\n",
       " '(1 0)': 'L',\n",
       " '(2 1)': 'U',\n",
       " '(1 2)': 'R',\n",
       " '(2 0)': 'U',\n",
       " '(3 2)': 'EXIT',\n",
       " '(2 2)': 'R',\n",
       " '(0 1)': 'U',\n",
       " '(0 0)': 'U',\n",
       " '(0 2)': 'R'}"
      ]
     },
     "execution_count": 12,
     "metadata": {},
     "output_type": "execute_result"
    }
   ],
   "source": [
    "Pi_star"
   ]
  },
  {
   "cell_type": "code",
   "execution_count": 13,
   "metadata": {
    "ExecuteTime": {
     "end_time": "2019-07-04T14:07:37.609182Z",
     "start_time": "2019-07-04T14:07:37.603224Z"
    }
   },
   "outputs": [
    {
     "data": {
      "text/plain": [
       "5"
      ]
     },
     "execution_count": 13,
     "metadata": {},
     "output_type": "execute_result"
    }
   ],
   "source": [
    "it"
   ]
  }
 ],
 "metadata": {
  "kernelspec": {
   "display_name": "Python 3",
   "language": "python",
   "name": "python3"
  },
  "language_info": {
   "codemirror_mode": {
    "name": "ipython",
    "version": 3
   },
   "file_extension": ".py",
   "mimetype": "text/x-python",
   "name": "python",
   "nbconvert_exporter": "python",
   "pygments_lexer": "ipython3",
   "version": "3.7.3"
  },
  "varInspector": {
   "cols": {
    "lenName": 16,
    "lenType": 16,
    "lenVar": 40
   },
   "kernels_config": {
    "python": {
     "delete_cmd_postfix": "",
     "delete_cmd_prefix": "del ",
     "library": "var_list.py",
     "varRefreshCmd": "print(var_dic_list())"
    },
    "r": {
     "delete_cmd_postfix": ") ",
     "delete_cmd_prefix": "rm(",
     "library": "var_list.r",
     "varRefreshCmd": "cat(var_dic_list()) "
    }
   },
   "types_to_exclude": [
    "module",
    "function",
    "builtin_function_or_method",
    "instance",
    "_Feature"
   ],
   "window_display": false
  }
 },
 "nbformat": 4,
 "nbformat_minor": 2
}
